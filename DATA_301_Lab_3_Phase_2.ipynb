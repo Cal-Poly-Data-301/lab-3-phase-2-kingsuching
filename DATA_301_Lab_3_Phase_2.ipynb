{
  "nbformat": 4,
  "nbformat_minor": 0,
  "metadata": {
    "kernelspec": {
      "display_name": "Python 3",
      "language": "python",
      "name": "python3"
    },
    "language_info": {
      "codemirror_mode": {
        "name": "ipython",
        "version": 3
      },
      "file_extension": ".py",
      "mimetype": "text/x-python",
      "name": "python",
      "nbconvert_exporter": "python",
      "pygments_lexer": "ipython3",
      "version": "3.6.8"
    },
    "colab": {
      "name": "DATA 301 Lab 3 - Phase 2",
      "provenance": [],
      "collapsed_sections": [],
      "include_colab_link": true
    }
  },
  "cells": [
    {
      "cell_type": "markdown",
      "metadata": {
        "id": "view-in-github",
        "colab_type": "text"
      },
      "source": [
        "<a href=\"https://colab.research.google.com/github/Cal-Poly-Data-301/lab-3-phase-2-kingsuching/blob/main/DATA_301_Lab_3_Phase_2.ipynb\" target=\"_parent\"><img src=\"https://colab.research.google.com/assets/colab-badge.svg\" alt=\"Open In Colab\"/></a>"
      ]
    },
    {
      "cell_type": "markdown",
      "metadata": {
        "id": "D26Xw4A0OIcR"
      },
      "source": [
        "# Retrieval Practice and Learning\n",
        "\n",
        "What is the most effective way to learn a subject? Many students focus exclusively on the _encoding_ process---that is, how to get the knowledge into memory in the first place. For example, taking notes is an activity for encoding knowledge.\n",
        "\n",
        "_Retrieval_, on the other hand, is the process of reconstructing that knowledge from memory. [Karpicke and Blunt](http://science.sciencemag.org/content/331/6018/772) (2011) demonstrated that _retrieval_ is more effective for learning than activites designed to promote effective encoding. They conducted an experiment in which subjects had to learn about sea otters by reading a passage. Subjects were randomly assigned to one of two conditions: some were instructed to create a [concept map](https://en.wikipedia.org/wiki/Concept_map) as they read the passage, while others were instructed to practice retrieval (i.e., read the passage, recall as much as they could, read the text again, and recall again). The two main measurements they recorded were:\n",
        "\n",
        "1. each subject's score on a follow-up learning test one week later\n",
        "2. each subject's _prediction_ of how well they would do on that test\n",
        "\n",
        "In this lab, you will analyze data from a _replication_ of Karpicke and Blunt's experiment, conducted by Buttrick _et al_.\n",
        "- The data file is here: https://dlsun.github.io/pods/data/KarpickeBlunt2011Replication/data.csv.\n",
        "- The codebook (explaining what the variables mean) is here: https://dlsun.github.io/pods/data/KarpickeBlunt2011Replication/codebook.csv."
      ]
    },
    {
      "cell_type": "code",
      "metadata": {
        "id": "11XV7qKfOIcU",
        "colab": {
          "base_uri": "https://localhost:8080/",
          "height": 268
        },
        "outputId": "cf127751-5fa1-4423-d2cd-f2a29f84fc64"
      },
      "source": [
        "# READ IN THE DATA SET HERE\n",
        "import pandas as pd\n",
        "import numpy as np\n",
        "df_replication = pd.read_csv(\"https://dlsun.github.io/pods/data/KarpickeBlunt2011Replication/data.csv\")\n",
        "df_replication.head()"
      ],
      "execution_count": null,
      "outputs": [
        {
          "output_type": "execute_result",
          "data": {
            "text/html": [
              "\n",
              "  <div id=\"df-b8672862-1f8a-40eb-94b5-a9b09f6101aa\">\n",
              "    <div class=\"colab-df-container\">\n",
              "      <div>\n",
              "<style scoped>\n",
              "    .dataframe tbody tr th:only-of-type {\n",
              "        vertical-align: middle;\n",
              "    }\n",
              "\n",
              "    .dataframe tbody tr th {\n",
              "        vertical-align: top;\n",
              "    }\n",
              "\n",
              "    .dataframe thead th {\n",
              "        text-align: right;\n",
              "    }\n",
              "</style>\n",
              "<table border=\"1\" class=\"dataframe\">\n",
              "  <thead>\n",
              "    <tr style=\"text-align: right;\">\n",
              "      <th></th>\n",
              "      <th>ID</th>\n",
              "      <th>Age</th>\n",
              "      <th>Gender</th>\n",
              "      <th>Date.P1</th>\n",
              "      <th>Date.P2</th>\n",
              "      <th>Condition</th>\n",
              "      <th>IC.1</th>\n",
              "      <th>IC.2</th>\n",
              "      <th>Comp.1</th>\n",
              "      <th>Comp.2</th>\n",
              "      <th>PR.1</th>\n",
              "      <th>PR.2</th>\n",
              "      <th>MCS.1</th>\n",
              "      <th>Scorer.1</th>\n",
              "      <th>MCS.2</th>\n",
              "      <th>Scorer.2</th>\n",
              "      <th>MCS.avg</th>\n",
              "      <th>R1CS.1</th>\n",
              "      <th>Scorer.1.1</th>\n",
              "      <th>R1CS.2</th>\n",
              "      <th>Scorer.2.1</th>\n",
              "      <th>R1CS.avg</th>\n",
              "      <th>R2CS.1</th>\n",
              "      <th>Scorer.1.2</th>\n",
              "      <th>R2CS.2</th>\n",
              "      <th>Scorer.2.2</th>\n",
              "      <th>R2CS.avg</th>\n",
              "      <th>TS.1</th>\n",
              "      <th>Scorer.1.3</th>\n",
              "      <th>TS.2</th>\n",
              "      <th>Scorer.2.3</th>\n",
              "      <th>TS.avg</th>\n",
              "      <th>Exc.1</th>\n",
              "      <th>Exc.2</th>\n",
              "      <th>Collection</th>\n",
              "    </tr>\n",
              "  </thead>\n",
              "  <tbody>\n",
              "    <tr>\n",
              "      <th>0</th>\n",
              "      <td>KB1</td>\n",
              "      <td>18</td>\n",
              "      <td>Female</td>\n",
              "      <td>11/21/16</td>\n",
              "      <td>11/28/16</td>\n",
              "      <td>Concept</td>\n",
              "      <td>1</td>\n",
              "      <td>1</td>\n",
              "      <td>1</td>\n",
              "      <td>1</td>\n",
              "      <td>1.0</td>\n",
              "      <td>0.80</td>\n",
              "      <td>0.750</td>\n",
              "      <td>NK</td>\n",
              "      <td>0.670</td>\n",
              "      <td>TT</td>\n",
              "      <td>0.7100</td>\n",
              "      <td>NaN</td>\n",
              "      <td>NaN</td>\n",
              "      <td>NaN</td>\n",
              "      <td>NaN</td>\n",
              "      <td>NaN</td>\n",
              "      <td>NaN</td>\n",
              "      <td>NaN</td>\n",
              "      <td>NaN</td>\n",
              "      <td>NaN</td>\n",
              "      <td>NaN</td>\n",
              "      <td>0.36</td>\n",
              "      <td>NK</td>\n",
              "      <td>0.42</td>\n",
              "      <td>MS</td>\n",
              "      <td>0.39</td>\n",
              "      <td>0</td>\n",
              "      <td>0</td>\n",
              "      <td>1</td>\n",
              "    </tr>\n",
              "    <tr>\n",
              "      <th>1</th>\n",
              "      <td>KB2</td>\n",
              "      <td>18</td>\n",
              "      <td>Male</td>\n",
              "      <td>11/21/16</td>\n",
              "      <td>11/28/16</td>\n",
              "      <td>Concept</td>\n",
              "      <td>1</td>\n",
              "      <td>1</td>\n",
              "      <td>1</td>\n",
              "      <td>1</td>\n",
              "      <td>0.0</td>\n",
              "      <td>0.70</td>\n",
              "      <td>0.400</td>\n",
              "      <td>NK</td>\n",
              "      <td>0.367</td>\n",
              "      <td>TT</td>\n",
              "      <td>0.3835</td>\n",
              "      <td>NaN</td>\n",
              "      <td>NaN</td>\n",
              "      <td>NaN</td>\n",
              "      <td>NaN</td>\n",
              "      <td>NaN</td>\n",
              "      <td>NaN</td>\n",
              "      <td>NaN</td>\n",
              "      <td>NaN</td>\n",
              "      <td>NaN</td>\n",
              "      <td>NaN</td>\n",
              "      <td>0.48</td>\n",
              "      <td>MS</td>\n",
              "      <td>0.36</td>\n",
              "      <td>NK</td>\n",
              "      <td>0.42</td>\n",
              "      <td>0</td>\n",
              "      <td>0</td>\n",
              "      <td>1</td>\n",
              "    </tr>\n",
              "    <tr>\n",
              "      <th>2</th>\n",
              "      <td>KB3</td>\n",
              "      <td>18</td>\n",
              "      <td>Male</td>\n",
              "      <td>11/21/16</td>\n",
              "      <td>11/28/16</td>\n",
              "      <td>Concept</td>\n",
              "      <td>1</td>\n",
              "      <td>1</td>\n",
              "      <td>1</td>\n",
              "      <td>1</td>\n",
              "      <td>0.0</td>\n",
              "      <td>0.70</td>\n",
              "      <td>0.433</td>\n",
              "      <td>NK</td>\n",
              "      <td>0.550</td>\n",
              "      <td>MS</td>\n",
              "      <td>0.4915</td>\n",
              "      <td>NaN</td>\n",
              "      <td>NaN</td>\n",
              "      <td>NaN</td>\n",
              "      <td>NaN</td>\n",
              "      <td>NaN</td>\n",
              "      <td>NaN</td>\n",
              "      <td>NaN</td>\n",
              "      <td>NaN</td>\n",
              "      <td>NaN</td>\n",
              "      <td>NaN</td>\n",
              "      <td>0.08</td>\n",
              "      <td>NK</td>\n",
              "      <td>0.08</td>\n",
              "      <td>MS</td>\n",
              "      <td>0.08</td>\n",
              "      <td>0</td>\n",
              "      <td>0</td>\n",
              "      <td>1</td>\n",
              "    </tr>\n",
              "    <tr>\n",
              "      <th>3</th>\n",
              "      <td>KB4</td>\n",
              "      <td>19</td>\n",
              "      <td>Female</td>\n",
              "      <td>11/21/16</td>\n",
              "      <td>11/28/16</td>\n",
              "      <td>Concept</td>\n",
              "      <td>1</td>\n",
              "      <td>1</td>\n",
              "      <td>1</td>\n",
              "      <td>1</td>\n",
              "      <td>0.0</td>\n",
              "      <td>0.70</td>\n",
              "      <td>0.317</td>\n",
              "      <td>NK</td>\n",
              "      <td>0.333</td>\n",
              "      <td>MS</td>\n",
              "      <td>0.3250</td>\n",
              "      <td>NaN</td>\n",
              "      <td>NaN</td>\n",
              "      <td>NaN</td>\n",
              "      <td>NaN</td>\n",
              "      <td>NaN</td>\n",
              "      <td>NaN</td>\n",
              "      <td>NaN</td>\n",
              "      <td>NaN</td>\n",
              "      <td>NaN</td>\n",
              "      <td>NaN</td>\n",
              "      <td>0.44</td>\n",
              "      <td>MS</td>\n",
              "      <td>0.42</td>\n",
              "      <td>NK</td>\n",
              "      <td>0.43</td>\n",
              "      <td>0</td>\n",
              "      <td>0</td>\n",
              "      <td>1</td>\n",
              "    </tr>\n",
              "    <tr>\n",
              "      <th>4</th>\n",
              "      <td>KB5</td>\n",
              "      <td>19</td>\n",
              "      <td>Female</td>\n",
              "      <td>11/22/16</td>\n",
              "      <td>11/29/16</td>\n",
              "      <td>Concept</td>\n",
              "      <td>1</td>\n",
              "      <td>1</td>\n",
              "      <td>1</td>\n",
              "      <td>1</td>\n",
              "      <td>0.0</td>\n",
              "      <td>0.95</td>\n",
              "      <td>0.683</td>\n",
              "      <td>NK</td>\n",
              "      <td>0.717</td>\n",
              "      <td>MS</td>\n",
              "      <td>0.7000</td>\n",
              "      <td>NaN</td>\n",
              "      <td>NaN</td>\n",
              "      <td>NaN</td>\n",
              "      <td>NaN</td>\n",
              "      <td>NaN</td>\n",
              "      <td>NaN</td>\n",
              "      <td>NaN</td>\n",
              "      <td>NaN</td>\n",
              "      <td>NaN</td>\n",
              "      <td>NaN</td>\n",
              "      <td>0.26</td>\n",
              "      <td>NK</td>\n",
              "      <td>0.28</td>\n",
              "      <td>MS</td>\n",
              "      <td>0.27</td>\n",
              "      <td>0</td>\n",
              "      <td>0</td>\n",
              "      <td>1</td>\n",
              "    </tr>\n",
              "  </tbody>\n",
              "</table>\n",
              "</div>\n",
              "      <button class=\"colab-df-convert\" onclick=\"convertToInteractive('df-b8672862-1f8a-40eb-94b5-a9b09f6101aa')\"\n",
              "              title=\"Convert this dataframe to an interactive table.\"\n",
              "              style=\"display:none;\">\n",
              "        \n",
              "  <svg xmlns=\"http://www.w3.org/2000/svg\" height=\"24px\"viewBox=\"0 0 24 24\"\n",
              "       width=\"24px\">\n",
              "    <path d=\"M0 0h24v24H0V0z\" fill=\"none\"/>\n",
              "    <path d=\"M18.56 5.44l.94 2.06.94-2.06 2.06-.94-2.06-.94-.94-2.06-.94 2.06-2.06.94zm-11 1L8.5 8.5l.94-2.06 2.06-.94-2.06-.94L8.5 2.5l-.94 2.06-2.06.94zm10 10l.94 2.06.94-2.06 2.06-.94-2.06-.94-.94-2.06-.94 2.06-2.06.94z\"/><path d=\"M17.41 7.96l-1.37-1.37c-.4-.4-.92-.59-1.43-.59-.52 0-1.04.2-1.43.59L10.3 9.45l-7.72 7.72c-.78.78-.78 2.05 0 2.83L4 21.41c.39.39.9.59 1.41.59.51 0 1.02-.2 1.41-.59l7.78-7.78 2.81-2.81c.8-.78.8-2.07 0-2.86zM5.41 20L4 18.59l7.72-7.72 1.47 1.35L5.41 20z\"/>\n",
              "  </svg>\n",
              "      </button>\n",
              "      \n",
              "  <style>\n",
              "    .colab-df-container {\n",
              "      display:flex;\n",
              "      flex-wrap:wrap;\n",
              "      gap: 12px;\n",
              "    }\n",
              "\n",
              "    .colab-df-convert {\n",
              "      background-color: #E8F0FE;\n",
              "      border: none;\n",
              "      border-radius: 50%;\n",
              "      cursor: pointer;\n",
              "      display: none;\n",
              "      fill: #1967D2;\n",
              "      height: 32px;\n",
              "      padding: 0 0 0 0;\n",
              "      width: 32px;\n",
              "    }\n",
              "\n",
              "    .colab-df-convert:hover {\n",
              "      background-color: #E2EBFA;\n",
              "      box-shadow: 0px 1px 2px rgba(60, 64, 67, 0.3), 0px 1px 3px 1px rgba(60, 64, 67, 0.15);\n",
              "      fill: #174EA6;\n",
              "    }\n",
              "\n",
              "    [theme=dark] .colab-df-convert {\n",
              "      background-color: #3B4455;\n",
              "      fill: #D2E3FC;\n",
              "    }\n",
              "\n",
              "    [theme=dark] .colab-df-convert:hover {\n",
              "      background-color: #434B5C;\n",
              "      box-shadow: 0px 1px 3px 1px rgba(0, 0, 0, 0.15);\n",
              "      filter: drop-shadow(0px 1px 2px rgba(0, 0, 0, 0.3));\n",
              "      fill: #FFFFFF;\n",
              "    }\n",
              "  </style>\n",
              "\n",
              "      <script>\n",
              "        const buttonEl =\n",
              "          document.querySelector('#df-b8672862-1f8a-40eb-94b5-a9b09f6101aa button.colab-df-convert');\n",
              "        buttonEl.style.display =\n",
              "          google.colab.kernel.accessAllowed ? 'block' : 'none';\n",
              "\n",
              "        async function convertToInteractive(key) {\n",
              "          const element = document.querySelector('#df-b8672862-1f8a-40eb-94b5-a9b09f6101aa');\n",
              "          const dataTable =\n",
              "            await google.colab.kernel.invokeFunction('convertToInteractive',\n",
              "                                                     [key], {});\n",
              "          if (!dataTable) return;\n",
              "\n",
              "          const docLinkHtml = 'Like what you see? Visit the ' +\n",
              "            '<a target=\"_blank\" href=https://colab.research.google.com/notebooks/data_table.ipynb>data table notebook</a>'\n",
              "            + ' to learn more about interactive tables.';\n",
              "          element.innerHTML = '';\n",
              "          dataTable['output_type'] = 'display_data';\n",
              "          await google.colab.output.renderOutput(dataTable, element);\n",
              "          const docLink = document.createElement('div');\n",
              "          docLink.innerHTML = docLinkHtml;\n",
              "          element.appendChild(docLink);\n",
              "        }\n",
              "      </script>\n",
              "    </div>\n",
              "  </div>\n",
              "  "
            ],
            "text/plain": [
              "    ID  Age  Gender   Date.P1  ... TS.avg Exc.1  Exc.2  Collection\n",
              "0  KB1   18  Female  11/21/16  ...   0.39     0      0           1\n",
              "1  KB2   18    Male  11/21/16  ...   0.42     0      0           1\n",
              "2  KB3   18    Male  11/21/16  ...   0.08     0      0           1\n",
              "3  KB4   19  Female  11/21/16  ...   0.43     0      0           1\n",
              "4  KB5   19  Female  11/22/16  ...   0.27     0      0           1\n",
              "\n",
              "[5 rows x 35 columns]"
            ]
          },
          "metadata": {},
          "execution_count": 15
        }
      ]
    },
    {
      "cell_type": "markdown",
      "metadata": {
        "id": "UfEXABNbOIca"
      },
      "source": [
        "# Question 1\n",
        "\n",
        "Which group felt like they learned more: the subjects who made concept maps or the ones who practiced retrieval? (Or are they about the same?) Make an appropriate visualization and explain what you see.\n",
        "\n",
        "_Hint:_ Use the variable `PR.2`, which contains the participants' predictions of how well they would do on a test one week later."
      ]
    },
    {
      "cell_type": "code",
      "metadata": {
        "id": "50TS8ZF1OIcb",
        "colab": {
          "base_uri": "https://localhost:8080/",
          "height": 333
        },
        "outputId": "86abac4b-2c51-44d1-a6c7-d6ca5f129cac"
      },
      "source": [
        "# YOUR CODE HERE\n",
        "df_replication.groupby(\"Condition\")[\"PR.2\"].plot.density(legend=True)"
      ],
      "execution_count": null,
      "outputs": [
        {
          "output_type": "execute_result",
          "data": {
            "text/plain": [
              "Condition\n",
              "Concept      AxesSubplot(0.125,0.125;0.775x0.755)\n",
              "Retrieval    AxesSubplot(0.125,0.125;0.775x0.755)\n",
              "Name: PR.2, dtype: object"
            ]
          },
          "metadata": {},
          "execution_count": 16
        },
        {
          "output_type": "display_data",
          "data": {
            "image/png": "[encoded data removed]",
            "text/plain": [
              "<Figure size 432x288 with 1 Axes>"
            ]
          },
          "metadata": {
            "needs_background": "light"
          }
        }
      ]
    },
    {
      "cell_type": "markdown",
      "metadata": {
        "id": "P6gqpWXLOIcg"
      },
      "source": [
        "**YOUR EXPLANATION HERE**"
      ]
    },
    {
      "cell_type": "markdown",
      "source": [
        "Participants with the concept mapping task felt like they learned more than the retreival task since more of them predicted better test scores on the test one week later."
      ],
      "metadata": {
        "id": "mkIMNKFqUvTA"
      }
    },
    {
      "cell_type": "markdown",
      "metadata": {
        "id": "FiFkblz8OIch"
      },
      "source": [
        "# Question 2\n",
        "\n",
        "Which group actually did better on the follow-up learning test one week later? Make an appropriate visualization and explain what you see.\n",
        "\n",
        "_Hint:_ Don't ask which variable you should use. That is for you to figure out. Read the codebook carefully (consulting the [original paper](http://science.sciencemag.org/content/331/6018/772), if necessary), make an informed decision, and explain your choice."
      ]
    },
    {
      "cell_type": "code",
      "metadata": {
        "id": "Th_st4KzOIci",
        "colab": {
          "base_uri": "https://localhost:8080/",
          "height": 333
        },
        "outputId": "c3729b65-2ae7-4338-bd2b-9cd6801dad61"
      },
      "source": [
        "# YOUR CODE HERE\n",
        "df_replication.groupby(\"Condition\")[\"TS.avg\"].plot.hist(legend=True)"
      ],
      "execution_count": null,
      "outputs": [
        {
          "output_type": "execute_result",
          "data": {
            "text/plain": [
              "Condition\n",
              "Concept      AxesSubplot(0.125,0.125;0.775x0.755)\n",
              "Retrieval    AxesSubplot(0.125,0.125;0.775x0.755)\n",
              "Name: TS.avg, dtype: object"
            ]
          },
          "metadata": {},
          "execution_count": 17
        },
        {
          "output_type": "display_data",
          "data": {
            "image/png": "[encoded data removed]",
            "text/plain": [
              "<Figure size 432x288 with 1 Axes>"
            ]
          },
          "metadata": {
            "needs_background": "light"
          }
        }
      ]
    },
    {
      "cell_type": "markdown",
      "metadata": {
        "id": "t3d928CqOIcn"
      },
      "source": [
        "**YOUR EXPLANATION HERE**"
      ]
    },
    {
      "cell_type": "markdown",
      "source": [
        "The participants blocked into the retreival group did better on the test on average one week later, despite the contrary prediction from question 1."
      ],
      "metadata": {
        "id": "1nHobMRAWKii"
      }
    },
    {
      "cell_type": "markdown",
      "metadata": {
        "id": "e_fjtBzsOIco"
      },
      "source": [
        "# Question 3\n",
        "\n",
        "How good were subjects at predicting how well they would do on the follow-up learning test? Calculate a measure of how well subjects predicted their performance and interpret the value in context. (Optionally, you may want to include a visualization as well.)"
      ]
    },
    {
      "cell_type": "code",
      "metadata": {
        "id": "Q-gKgg8IOIcp",
        "colab": {
          "base_uri": "https://localhost:8080/",
          "height": 282
        },
        "outputId": "c6939306-7f65-4d44-8217-a37f9f33f033"
      },
      "source": [
        "# YOUR CODE HERE\n",
        "from sklearn.preprocessing import *\n",
        "from sklearn.metrics.pairwise import euclidean_distances\n",
        "scaler = StandardScaler()\n",
        "scaler.fit(df_replication[[\"PR.2\", \"TS.avg\"]])\n",
        "transformed = scaler.transform(df_replication[[\"PR.2\", \"TS.avg\"]])\n",
        "transformed = pd.DataFrame(transformed)\n",
        "\n",
        "def accuracy(x):\n",
        "  x1 = transformed.loc[[x], [0]]\n",
        "  x2 =  transformed.loc[[x], [1]]\n",
        "  return euclidean_distances(x1, x2)[0][0]\n",
        "\n",
        "df_replication[\"accuracy\"] = df_replication.index.map(accuracy)\n",
        "df_replication[\"accuracy\"].plot.hist()"
      ],
      "execution_count": null,
      "outputs": [
        {
          "output_type": "execute_result",
          "data": {
            "text/plain": [
              "<matplotlib.axes._subplots.AxesSubplot at 0x7fa7d951c4d0>"
            ]
          },
          "metadata": {},
          "execution_count": 42
        },
        {
          "output_type": "display_data",
          "data": {
            "image/png": "[encoded data removed]",
            "text/plain": [
              "<Figure size 432x288 with 1 Axes>"
            ]
          },
          "metadata": {
            "needs_background": "light"
          }
        }
      ]
    },
    {
      "cell_type": "markdown",
      "source": [
        "We see that more of the predictions were clustered between 0-1, which shows that a lot of the participants had better predictions of how they would do on the test."
      ],
      "metadata": {
        "id": "cT04ZiRVpycw"
      }
    },
    {
      "cell_type": "code",
      "source": [
        "df_blunt_essential = df_replication[[\"ID\",\"Condition\",\"PR.2\",\"TS.avg\"]]\n",
        "df_blunt_essential = df_blunt_essential.set_index([\"ID\"])\n",
        "df_blunt_essential_concept = df_blunt_essential[df_blunt_essential[\"Condition\"] == \"Concept\"].copy().drop([\"Condition\"], axis = 1)\n",
        "df_blunt_essential_retrieval = df_blunt_essential[df_blunt_essential[\"Condition\"] == \"Retrieval\"].copy().drop([\"Condition\"], axis = 1)\n",
        "\n",
        "df_blunt_essential_concept.plot.scatter(x = \"PR.2\", y = \"TS.avg\", title = \"Relationship between the prediction and test score for concept map 1 \")\n",
        "df_blunt_essential_retrieval.plot.scatter(x = \"PR.2\", y = \"TS.avg\", title = \"Relationship between the prediction and test score for retrieval 1 \")"
      ],
      "metadata": {
        "colab": {
          "base_uri": "https://localhost:8080/",
          "height": 590
        },
        "id": "sbSwvqhYoVBL",
        "outputId": "639df6ed-9239-468c-d675-d209ddf02334"
      },
      "execution_count": null,
      "outputs": [
        {
          "output_type": "execute_result",
          "data": {
            "text/plain": [
              "<matplotlib.axes._subplots.AxesSubplot at 0x7fa7d50f2050>"
            ]
          },
          "metadata": {},
          "execution_count": 39
        },
        {
          "output_type": "display_data",
          "data": {
            "image/png": "[encoded data removed]",
            "text/plain": [
              "<Figure size 432x288 with 1 Axes>"
            ]
          },
          "metadata": {
            "needs_background": "light"
          }
        },
        {
          "output_type": "display_data",
          "data": {
            "image/png": "[encoded data removed]",
            "text/plain": [
              "<Figure size 432x288 with 1 Axes>"
            ]
          },
          "metadata": {
            "needs_background": "light"
          }
        }
      ]
    },
    {
      "cell_type": "code",
      "source": [
        "df_blunt_essential_concept[\"Prediction Distance\"] = df_blunt_essential_concept[\"TS.avg\"] - df_blunt_essential_concept[\"PR.2\"] \n",
        "df_blunt_essential_concept[\"Prediction Distance\"].sort_values().plot.bar()\n",
        "print(\"The standard deviation of how close the prediction to the test score for the concept map group is %f\" % df_blunt_essential_concept[\"Prediction Distance\"].std())"
      ],
      "metadata": {
        "colab": {
          "base_uri": "https://localhost:8080/",
          "height": 312
        },
        "id": "k31GIFuQpah1",
        "outputId": "a66bf4d5-a14e-4ad7-8a9a-fb2d4fd29599"
      },
      "execution_count": null,
      "outputs": [
        {
          "output_type": "stream",
          "name": "stdout",
          "text": [
            "The standard deviation of how close the prediction to the test score for the concept map group is 0.239861\n"
          ]
        },
        {
          "output_type": "display_data",
          "data": {
            "image/png": "[encoded data removed]",
            "text/plain": [
              "<Figure size 432x288 with 1 Axes>"
            ]
          },
          "metadata": {
            "needs_background": "light"
          }
        }
      ]
    },
    {
      "cell_type": "code",
      "source": [
        "df_blunt_essential_retrieval[\"Prediction Distance\"] = df_blunt_essential_retrieval[\"TS.avg\"] - df_blunt_essential_retrieval[\"PR.2\"] \n",
        "df_blunt_essential_retrieval[\"Prediction Distance\"].sort_values().plot.bar()\n",
        "print(\"The standard deviation of how close the prediction to the test score for the concept map group is %f\" % df_blunt_essential_retrieval[\"Prediction Distance\"].std())"
      ],
      "metadata": {
        "colab": {
          "base_uri": "https://localhost:8080/",
          "height": 312
        },
        "id": "LlClxxvnpbwJ",
        "outputId": "dc78cbd6-6aa2-421f-aa41-faf9e27b338a"
      },
      "execution_count": null,
      "outputs": [
        {
          "output_type": "stream",
          "name": "stdout",
          "text": [
            "The standard deviation of how close the prediction to the test score for the concept map group is 0.234894\n"
          ]
        },
        {
          "output_type": "display_data",
          "data": {
            "image/png": "[encoded data removed]",
            "text/plain": [
              "<Figure size 432x288 with 1 Axes>"
            ]
          },
          "metadata": {
            "needs_background": "light"
          }
        }
      ]
    },
    {
      "cell_type": "markdown",
      "metadata": {
        "id": "rfa6vegKOIcv"
      },
      "source": [
        "**The standard deviation of the prediction distance(the difference between the prediction and final score)is 0.239861 and 0.234894 for the concept map group and the retrieval group respectively.** \n",
        "**The retrieval map group has a slightly lower standard deviation in predicting how well they would do on the follow-up learning test. However, I think the different is not significant enough to suggest that the retrieval group have a prediction in how well they would do on the follow-up learning test.**"
      ]
    },
    {
      "cell_type": "markdown",
      "metadata": {
        "id": "SypkJtWNOIc4"
      },
      "source": [
        "## Submission Instructions\n",
        "\n",
        "- Copy this notebook to your own Drive, if you have not already.\n",
        "- Restart this notebook and run the cells from beginning to end. \n",
        "  - Go to Runtime > Restart and Run All.\n",
        "- Rename this notebook by clicking on \"DATA 301 Lab 3 - YOUR NAMES HERE\" at the very top of this page. Replace \"YOUR NAMES HERE\" with the first and last names of you (and your partner for Phase 2).\n",
        "- Get the link to your notebook:\n",
        "  - Click on \"Share\" at the top-right. \n",
        "  - Change the settings to \"Anyone with the link can view\". \n",
        "  - Copy the sharing link into Canvas."
      ]
    }
  ]
}